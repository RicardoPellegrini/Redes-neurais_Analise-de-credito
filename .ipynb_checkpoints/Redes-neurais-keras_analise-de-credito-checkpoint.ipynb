{
 "cells": [
  {
   "cell_type": "code",
   "execution_count": 1,
   "metadata": {},
   "outputs": [],
   "source": [
    "import pandas as pd"
   ]
  },
  {
   "cell_type": "code",
   "execution_count": 2,
   "metadata": {},
   "outputs": [],
   "source": [
    "# Importando database\n",
    "base = pd.read_csv('credit_data.csv')"
   ]
  },
  {
   "cell_type": "code",
   "execution_count": 3,
   "metadata": {},
   "outputs": [
    {
     "data": {
      "text/html": [
       "<div>\n",
       "<style scoped>\n",
       "    .dataframe tbody tr th:only-of-type {\n",
       "        vertical-align: middle;\n",
       "    }\n",
       "\n",
       "    .dataframe tbody tr th {\n",
       "        vertical-align: top;\n",
       "    }\n",
       "\n",
       "    .dataframe thead th {\n",
       "        text-align: right;\n",
       "    }\n",
       "</style>\n",
       "<table border=\"1\" class=\"dataframe\">\n",
       "  <thead>\n",
       "    <tr style=\"text-align: right;\">\n",
       "      <th></th>\n",
       "      <th>i#clientid</th>\n",
       "      <th>income</th>\n",
       "      <th>age</th>\n",
       "      <th>loan</th>\n",
       "      <th>c#default</th>\n",
       "    </tr>\n",
       "  </thead>\n",
       "  <tbody>\n",
       "    <tr>\n",
       "      <th>count</th>\n",
       "      <td>2000.000000</td>\n",
       "      <td>2000.000000</td>\n",
       "      <td>1997.000000</td>\n",
       "      <td>2000.000000</td>\n",
       "      <td>2000.000000</td>\n",
       "    </tr>\n",
       "    <tr>\n",
       "      <th>mean</th>\n",
       "      <td>1000.500000</td>\n",
       "      <td>45331.600018</td>\n",
       "      <td>40.807559</td>\n",
       "      <td>4444.369695</td>\n",
       "      <td>0.141500</td>\n",
       "    </tr>\n",
       "    <tr>\n",
       "      <th>std</th>\n",
       "      <td>577.494589</td>\n",
       "      <td>14326.327119</td>\n",
       "      <td>13.624469</td>\n",
       "      <td>3045.410024</td>\n",
       "      <td>0.348624</td>\n",
       "    </tr>\n",
       "    <tr>\n",
       "      <th>min</th>\n",
       "      <td>1.000000</td>\n",
       "      <td>20014.489470</td>\n",
       "      <td>-52.423280</td>\n",
       "      <td>1.377630</td>\n",
       "      <td>0.000000</td>\n",
       "    </tr>\n",
       "    <tr>\n",
       "      <th>25%</th>\n",
       "      <td>500.750000</td>\n",
       "      <td>32796.459717</td>\n",
       "      <td>28.990415</td>\n",
       "      <td>1939.708847</td>\n",
       "      <td>0.000000</td>\n",
       "    </tr>\n",
       "    <tr>\n",
       "      <th>50%</th>\n",
       "      <td>1000.500000</td>\n",
       "      <td>45789.117313</td>\n",
       "      <td>41.317159</td>\n",
       "      <td>3974.719419</td>\n",
       "      <td>0.000000</td>\n",
       "    </tr>\n",
       "    <tr>\n",
       "      <th>75%</th>\n",
       "      <td>1500.250000</td>\n",
       "      <td>57791.281668</td>\n",
       "      <td>52.587040</td>\n",
       "      <td>6432.410625</td>\n",
       "      <td>0.000000</td>\n",
       "    </tr>\n",
       "    <tr>\n",
       "      <th>max</th>\n",
       "      <td>2000.000000</td>\n",
       "      <td>69995.685578</td>\n",
       "      <td>63.971796</td>\n",
       "      <td>13766.051239</td>\n",
       "      <td>1.000000</td>\n",
       "    </tr>\n",
       "  </tbody>\n",
       "</table>\n",
       "</div>"
      ],
      "text/plain": [
       "        i#clientid        income          age          loan    c#default\n",
       "count  2000.000000   2000.000000  1997.000000   2000.000000  2000.000000\n",
       "mean   1000.500000  45331.600018    40.807559   4444.369695     0.141500\n",
       "std     577.494589  14326.327119    13.624469   3045.410024     0.348624\n",
       "min       1.000000  20014.489470   -52.423280      1.377630     0.000000\n",
       "25%     500.750000  32796.459717    28.990415   1939.708847     0.000000\n",
       "50%    1000.500000  45789.117313    41.317159   3974.719419     0.000000\n",
       "75%    1500.250000  57791.281668    52.587040   6432.410625     0.000000\n",
       "max    2000.000000  69995.685578    63.971796  13766.051239     1.000000"
      ]
     },
     "execution_count": 3,
     "metadata": {},
     "output_type": "execute_result"
    }
   ],
   "source": [
    "# Estatísticas do database\n",
    "base.describe()"
   ]
  },
  {
   "cell_type": "code",
   "execution_count": 4,
   "metadata": {},
   "outputs": [
    {
     "data": {
      "text/html": [
       "<div>\n",
       "<style scoped>\n",
       "    .dataframe tbody tr th:only-of-type {\n",
       "        vertical-align: middle;\n",
       "    }\n",
       "\n",
       "    .dataframe tbody tr th {\n",
       "        vertical-align: top;\n",
       "    }\n",
       "\n",
       "    .dataframe thead th {\n",
       "        text-align: right;\n",
       "    }\n",
       "</style>\n",
       "<table border=\"1\" class=\"dataframe\">\n",
       "  <thead>\n",
       "    <tr style=\"text-align: right;\">\n",
       "      <th></th>\n",
       "      <th>i#clientid</th>\n",
       "      <th>income</th>\n",
       "      <th>age</th>\n",
       "      <th>loan</th>\n",
       "      <th>c#default</th>\n",
       "    </tr>\n",
       "  </thead>\n",
       "  <tbody>\n",
       "    <tr>\n",
       "      <th>0</th>\n",
       "      <td>1</td>\n",
       "      <td>66155.925095</td>\n",
       "      <td>59.017015</td>\n",
       "      <td>8106.532131</td>\n",
       "      <td>0</td>\n",
       "    </tr>\n",
       "    <tr>\n",
       "      <th>1</th>\n",
       "      <td>2</td>\n",
       "      <td>34415.153966</td>\n",
       "      <td>48.117153</td>\n",
       "      <td>6564.745018</td>\n",
       "      <td>0</td>\n",
       "    </tr>\n",
       "    <tr>\n",
       "      <th>2</th>\n",
       "      <td>3</td>\n",
       "      <td>57317.170063</td>\n",
       "      <td>63.108049</td>\n",
       "      <td>8020.953296</td>\n",
       "      <td>0</td>\n",
       "    </tr>\n",
       "    <tr>\n",
       "      <th>3</th>\n",
       "      <td>4</td>\n",
       "      <td>42709.534201</td>\n",
       "      <td>45.751972</td>\n",
       "      <td>6103.642260</td>\n",
       "      <td>0</td>\n",
       "    </tr>\n",
       "    <tr>\n",
       "      <th>4</th>\n",
       "      <td>5</td>\n",
       "      <td>66952.688845</td>\n",
       "      <td>18.584336</td>\n",
       "      <td>8770.099235</td>\n",
       "      <td>1</td>\n",
       "    </tr>\n",
       "  </tbody>\n",
       "</table>\n",
       "</div>"
      ],
      "text/plain": [
       "   i#clientid        income        age         loan  c#default\n",
       "0           1  66155.925095  59.017015  8106.532131          0\n",
       "1           2  34415.153966  48.117153  6564.745018          0\n",
       "2           3  57317.170063  63.108049  8020.953296          0\n",
       "3           4  42709.534201  45.751972  6103.642260          0\n",
       "4           5  66952.688845  18.584336  8770.099235          1"
      ]
     },
     "execution_count": 4,
     "metadata": {},
     "output_type": "execute_result"
    }
   ],
   "source": [
    "# Amostra dos dados\n",
    "base.head()"
   ]
  },
  {
   "cell_type": "code",
   "execution_count": 5,
   "metadata": {},
   "outputs": [
    {
     "data": {
      "text/html": [
       "<div>\n",
       "<style scoped>\n",
       "    .dataframe tbody tr th:only-of-type {\n",
       "        vertical-align: middle;\n",
       "    }\n",
       "\n",
       "    .dataframe tbody tr th {\n",
       "        vertical-align: top;\n",
       "    }\n",
       "\n",
       "    .dataframe thead th {\n",
       "        text-align: right;\n",
       "    }\n",
       "</style>\n",
       "<table border=\"1\" class=\"dataframe\">\n",
       "  <thead>\n",
       "    <tr style=\"text-align: right;\">\n",
       "      <th></th>\n",
       "      <th>i#clientid</th>\n",
       "      <th>income</th>\n",
       "      <th>age</th>\n",
       "      <th>loan</th>\n",
       "      <th>c#default</th>\n",
       "    </tr>\n",
       "  </thead>\n",
       "  <tbody>\n",
       "    <tr>\n",
       "      <th>15</th>\n",
       "      <td>16</td>\n",
       "      <td>50501.726689</td>\n",
       "      <td>-28.218361</td>\n",
       "      <td>3977.287432</td>\n",
       "      <td>0</td>\n",
       "    </tr>\n",
       "    <tr>\n",
       "      <th>21</th>\n",
       "      <td>22</td>\n",
       "      <td>32197.620701</td>\n",
       "      <td>-52.423280</td>\n",
       "      <td>4244.057136</td>\n",
       "      <td>0</td>\n",
       "    </tr>\n",
       "    <tr>\n",
       "      <th>26</th>\n",
       "      <td>27</td>\n",
       "      <td>63287.038908</td>\n",
       "      <td>-36.496976</td>\n",
       "      <td>9595.286289</td>\n",
       "      <td>0</td>\n",
       "    </tr>\n",
       "  </tbody>\n",
       "</table>\n",
       "</div>"
      ],
      "text/plain": [
       "    i#clientid        income        age         loan  c#default\n",
       "15          16  50501.726689 -28.218361  3977.287432          0\n",
       "21          22  32197.620701 -52.423280  4244.057136          0\n",
       "26          27  63287.038908 -36.496976  9595.286289          0"
      ]
     },
     "execution_count": 5,
     "metadata": {},
     "output_type": "execute_result"
    }
   ],
   "source": [
    "# Verificando dados com idade negativa\n",
    "base.loc[base['age'] < 0]"
   ]
  },
  {
   "cell_type": "code",
   "execution_count": 6,
   "metadata": {},
   "outputs": [],
   "source": [
    "### Maneiras de contornar o problema das idades menores que zero\n",
    "\n",
    "## 1) Apagar a coluna por inteiro (não recomendada, neste caso)\n",
    "# base.drop('age', 1, inplace=True)\n",
    "\n",
    "## 2) Apagar apenas os registros, por completo, que possuem essa incoerência\n",
    "# base.drop(base[base.age < 0].index, inplace=True)\n",
    "\n",
    "## 3) Preencher os valores com a média da coluna, apenas dos valores maiores que zero\n",
    "media = base['age'][base.age > 0].mean()\n",
    "base.loc[base.age < 0, 'age'] = media"
   ]
  },
  {
   "cell_type": "code",
   "execution_count": 7,
   "metadata": {},
   "outputs": [
    {
     "data": {
      "text/html": [
       "<div>\n",
       "<style scoped>\n",
       "    .dataframe tbody tr th:only-of-type {\n",
       "        vertical-align: middle;\n",
       "    }\n",
       "\n",
       "    .dataframe tbody tr th {\n",
       "        vertical-align: top;\n",
       "    }\n",
       "\n",
       "    .dataframe thead th {\n",
       "        text-align: right;\n",
       "    }\n",
       "</style>\n",
       "<table border=\"1\" class=\"dataframe\">\n",
       "  <thead>\n",
       "    <tr style=\"text-align: right;\">\n",
       "      <th></th>\n",
       "      <th>i#clientid</th>\n",
       "      <th>income</th>\n",
       "      <th>age</th>\n",
       "      <th>loan</th>\n",
       "      <th>c#default</th>\n",
       "    </tr>\n",
       "  </thead>\n",
       "  <tbody>\n",
       "    <tr>\n",
       "      <th>28</th>\n",
       "      <td>29</td>\n",
       "      <td>59417.805406</td>\n",
       "      <td>NaN</td>\n",
       "      <td>2082.625938</td>\n",
       "      <td>0</td>\n",
       "    </tr>\n",
       "    <tr>\n",
       "      <th>30</th>\n",
       "      <td>31</td>\n",
       "      <td>48528.852796</td>\n",
       "      <td>NaN</td>\n",
       "      <td>6155.784670</td>\n",
       "      <td>0</td>\n",
       "    </tr>\n",
       "    <tr>\n",
       "      <th>31</th>\n",
       "      <td>32</td>\n",
       "      <td>23526.302555</td>\n",
       "      <td>NaN</td>\n",
       "      <td>2862.010139</td>\n",
       "      <td>0</td>\n",
       "    </tr>\n",
       "  </tbody>\n",
       "</table>\n",
       "</div>"
      ],
      "text/plain": [
       "    i#clientid        income  age         loan  c#default\n",
       "28          29  59417.805406  NaN  2082.625938          0\n",
       "30          31  48528.852796  NaN  6155.784670          0\n",
       "31          32  23526.302555  NaN  2862.010139          0"
      ]
     },
     "execution_count": 7,
     "metadata": {},
     "output_type": "execute_result"
    }
   ],
   "source": [
    "# Verificando valores nulos\n",
    "base.loc[pd.isnull(base['age'])]"
   ]
  },
  {
   "cell_type": "code",
   "execution_count": 8,
   "metadata": {},
   "outputs": [],
   "source": [
    "# Divisão do dataset entre variáveis preditoras e target\n",
    "previsores = base.iloc[:, 1:4].values\n",
    "classe = base.iloc[:, 4].values"
   ]
  },
  {
   "cell_type": "code",
   "execution_count": 9,
   "metadata": {},
   "outputs": [],
   "source": [
    "# Substituindo os valores missing pela média de cada coluna\n",
    "from sklearn.preprocessing import Imputer\n",
    "\n",
    "imputer = Imputer(missing_values='NaN', strategy='mean', axis=0)\n",
    "imputer.fit(previsores[:, 0:3])\n",
    "\n",
    "previsores[:, 0:3] = imputer.transform(previsores[:, 0:3])"
   ]
  },
  {
   "cell_type": "code",
   "execution_count": 10,
   "metadata": {},
   "outputs": [],
   "source": [
    "## Fazendo o escalonamento (normalização) dos atributos\n",
    "from sklearn.preprocessing import StandardScaler\n",
    "\n",
    "# Padronização\n",
    "scaler = StandardScaler()\n",
    "previsores = scaler.fit_transform(previsores)\n",
    "\n",
    "# Normalização\n",
    "# from sklearn.preprocessing import MinMaxScaler\n",
    "# scaler = MinMaxScaler()\n",
    "# previsores = scaler.fit_transform(previsores)"
   ]
  },
  {
   "cell_type": "code",
   "execution_count": 11,
   "metadata": {},
   "outputs": [],
   "source": [
    "# Dividindo os dados em treino e teste\n",
    "from sklearn.model_selection import train_test_split"
   ]
  },
  {
   "cell_type": "code",
   "execution_count": 12,
   "metadata": {},
   "outputs": [],
   "source": [
    "previsores_train, previsores_test, classe_train, classe_test = train_test_split(previsores, classe, test_size=0.25, random_state=0)"
   ]
  },
  {
   "cell_type": "code",
   "execution_count": 13,
   "metadata": {},
   "outputs": [],
   "source": [
    "# Modelo Redes Neurais com Keras\n",
    "import tensorflow"
   ]
  },
  {
   "cell_type": "code",
   "execution_count": 14,
   "metadata": {},
   "outputs": [],
   "source": [
    "from tensorflow import keras"
   ]
  },
  {
   "cell_type": "code",
   "execution_count": 15,
   "metadata": {},
   "outputs": [],
   "source": [
    "classificador = keras.Sequential()"
   ]
  },
  {
   "cell_type": "code",
   "execution_count": 16,
   "metadata": {},
   "outputs": [],
   "source": [
    "# Configurar camadas da nossa rede neural\n",
    "# Definindo nossa primeira camada oculta, com dois neurônios, recebendo 3 entradas\n",
    "classificador.add(keras.layers.Dense(units=2, activation='relu', input_dim=3))"
   ]
  },
  {
   "cell_type": "code",
   "execution_count": 17,
   "metadata": {},
   "outputs": [],
   "source": [
    "# Definindo nossa segunda camada oculta, com dois neurônios\n",
    "classificador.add(keras.layers.Dense(units=2, activation='relu'))"
   ]
  },
  {
   "cell_type": "code",
   "execution_count": 18,
   "metadata": {},
   "outputs": [],
   "source": [
    "# Definindo nossa camada de saída, com 1 neurônio (problema binário)\n",
    "classificador.add(keras.layers.Dense(units=1, activation='sigmoid'))"
   ]
  },
  {
   "cell_type": "code",
   "execution_count": 19,
   "metadata": {},
   "outputs": [],
   "source": [
    "# Compilando nossa rede neural\n",
    "classificador.compile(optimizer='adam', loss='binary_crossentropy', metrics=['accuracy'])"
   ]
  },
  {
   "cell_type": "code",
   "execution_count": 20,
   "metadata": {},
   "outputs": [
    {
     "name": "stdout",
     "output_type": "stream",
     "text": [
      "Train on 1500 samples\n",
      "Epoch 1/100\n",
      "1500/1500 [==============================] - 0s 234us/sample - loss: 0.4287 - accuracy: 0.8540\n",
      "Epoch 2/100\n",
      "1500/1500 [==============================] - 0s 93us/sample - loss: 0.3241 - accuracy: 0.8540\n",
      "Epoch 3/100\n",
      "1500/1500 [==============================] - 0s 96us/sample - loss: 0.2702 - accuracy: 0.8540\n",
      "Epoch 4/100\n",
      "1500/1500 [==============================] - 0s 96us/sample - loss: 0.2377 - accuracy: 0.8540\n",
      "Epoch 5/100\n",
      "1500/1500 [==============================] - 0s 93us/sample - loss: 0.2128 - accuracy: 0.8540\n",
      "Epoch 6/100\n",
      "1500/1500 [==============================] - 0s 96us/sample - loss: 0.1927 - accuracy: 0.8540\n",
      "Epoch 7/100\n",
      "1500/1500 [==============================] - 0s 98us/sample - loss: 0.1734 - accuracy: 0.8540\n",
      "Epoch 8/100\n",
      "1500/1500 [==============================] - 0s 99us/sample - loss: 0.1564 - accuracy: 0.8747\n",
      "Epoch 9/100\n",
      "1500/1500 [==============================] - 0s 97us/sample - loss: 0.1447 - accuracy: 0.9547\n",
      "Epoch 10/100\n",
      "1500/1500 [==============================] - 0s 94us/sample - loss: 0.1355 - accuracy: 0.9627\n",
      "Epoch 11/100\n",
      "1500/1500 [==============================] - 0s 94us/sample - loss: 0.1275 - accuracy: 0.9660\n",
      "Epoch 12/100\n",
      "1500/1500 [==============================] - 0s 96us/sample - loss: 0.1201 - accuracy: 0.9667\n",
      "Epoch 13/100\n",
      "1500/1500 [==============================] - 0s 98us/sample - loss: 0.1137 - accuracy: 0.9733\n",
      "Epoch 14/100\n",
      "1500/1500 [==============================] - 0s 96us/sample - loss: 0.1074 - accuracy: 0.9753\n",
      "Epoch 15/100\n",
      "1500/1500 [==============================] - 0s 98us/sample - loss: 0.1020 - accuracy: 0.9780\n",
      "Epoch 16/100\n",
      "1500/1500 [==============================] - 0s 100us/sample - loss: 0.0965 - accuracy: 0.9807\n",
      "Epoch 17/100\n",
      "1500/1500 [==============================] - 0s 99us/sample - loss: 0.0916 - accuracy: 0.9820\n",
      "Epoch 18/100\n",
      "1500/1500 [==============================] - 0s 97us/sample - loss: 0.0870 - accuracy: 0.9827\n",
      "Epoch 19/100\n",
      "1500/1500 [==============================] - 0s 98us/sample - loss: 0.0826 - accuracy: 0.9840\n",
      "Epoch 20/100\n",
      "1500/1500 [==============================] - 0s 97us/sample - loss: 0.0785 - accuracy: 0.9860\n",
      "Epoch 21/100\n",
      "1500/1500 [==============================] - 0s 99us/sample - loss: 0.0746 - accuracy: 0.9860\n",
      "Epoch 22/100\n",
      "1500/1500 [==============================] - 0s 100us/sample - loss: 0.0709 - accuracy: 0.9867\n",
      "Epoch 23/100\n",
      "1500/1500 [==============================] - 0s 107us/sample - loss: 0.0678 - accuracy: 0.9893\n",
      "Epoch 24/100\n",
      "1500/1500 [==============================] - 0s 98us/sample - loss: 0.0645 - accuracy: 0.9887\n",
      "Epoch 25/100\n",
      "1500/1500 [==============================] - 0s 98us/sample - loss: 0.0616 - accuracy: 0.9907\n",
      "Epoch 26/100\n",
      "1500/1500 [==============================] - 0s 99us/sample - loss: 0.0590 - accuracy: 0.9893\n",
      "Epoch 27/100\n",
      "1500/1500 [==============================] - 0s 97us/sample - loss: 0.0561 - accuracy: 0.9967\n",
      "Epoch 28/100\n",
      "1500/1500 [==============================] - 0s 97us/sample - loss: 0.0538 - accuracy: 0.9953\n",
      "Epoch 29/100\n",
      "1500/1500 [==============================] - 0s 98us/sample - loss: 0.0513 - accuracy: 0.9940\n",
      "Epoch 30/100\n",
      "1500/1500 [==============================] - 0s 98us/sample - loss: 0.0492 - accuracy: 0.9940\n",
      "Epoch 31/100\n",
      "1500/1500 [==============================] - 0s 96us/sample - loss: 0.0470 - accuracy: 0.9960\n",
      "Epoch 32/100\n",
      "1500/1500 [==============================] - 0s 97us/sample - loss: 0.0452 - accuracy: 0.9953\n",
      "Epoch 33/100\n",
      "1500/1500 [==============================] - 0s 99us/sample - loss: 0.0432 - accuracy: 0.9980\n",
      "Epoch 34/100\n",
      "1500/1500 [==============================] - 0s 100us/sample - loss: 0.0415 - accuracy: 0.9973\n",
      "Epoch 35/100\n",
      "1500/1500 [==============================] - 0s 98us/sample - loss: 0.0397 - accuracy: 0.9940\n",
      "Epoch 36/100\n",
      "1500/1500 [==============================] - 0s 98us/sample - loss: 0.0380 - accuracy: 0.9973\n",
      "Epoch 37/100\n",
      "1500/1500 [==============================] - 0s 98us/sample - loss: 0.0364 - accuracy: 0.9987\n",
      "Epoch 38/100\n",
      "1500/1500 [==============================] - 0s 100us/sample - loss: 0.0349 - accuracy: 0.9993\n",
      "Epoch 39/100\n",
      "1500/1500 [==============================] - 0s 99us/sample - loss: 0.0334 - accuracy: 0.9987\n",
      "Epoch 40/100\n",
      "1500/1500 [==============================] - 0s 100us/sample - loss: 0.0320 - accuracy: 0.9980\n",
      "Epoch 41/100\n",
      "1500/1500 [==============================] - 0s 99us/sample - loss: 0.0310 - accuracy: 0.9973\n",
      "Epoch 42/100\n",
      "1500/1500 [==============================] - 0s 97us/sample - loss: 0.0295 - accuracy: 0.9987\n",
      "Epoch 43/100\n",
      "1500/1500 [==============================] - 0s 104us/sample - loss: 0.0285 - accuracy: 0.9980\n",
      "Epoch 44/100\n",
      "1500/1500 [==============================] - 0s 112us/sample - loss: 0.0278 - accuracy: 0.9967\n",
      "Epoch 45/100\n",
      "1500/1500 [==============================] - 0s 103us/sample - loss: 0.0264 - accuracy: 0.9993\n",
      "Epoch 46/100\n",
      "1500/1500 [==============================] - 0s 84us/sample - loss: 0.0257 - accuracy: 0.9987\n",
      "Epoch 47/100\n",
      "1500/1500 [==============================] - 0s 88us/sample - loss: 0.0245 - accuracy: 0.9987\n",
      "Epoch 48/100\n",
      "1500/1500 [==============================] - 0s 89us/sample - loss: 0.0237 - accuracy: 0.9987\n",
      "Epoch 49/100\n",
      "1500/1500 [==============================] - 0s 91us/sample - loss: 0.0228 - accuracy: 0.9987\n",
      "Epoch 50/100\n",
      "1500/1500 [==============================] - 0s 88us/sample - loss: 0.0221 - accuracy: 0.9987\n",
      "Epoch 51/100\n",
      "1500/1500 [==============================] - 0s 89us/sample - loss: 0.0212 - accuracy: 0.9987\n",
      "Epoch 52/100\n",
      "1500/1500 [==============================] - 0s 89us/sample - loss: 0.0206 - accuracy: 0.9987\n",
      "Epoch 53/100\n",
      "1500/1500 [==============================] - 0s 89us/sample - loss: 0.0197 - accuracy: 0.9980\n",
      "Epoch 54/100\n",
      "1500/1500 [==============================] - 0s 90us/sample - loss: 0.0191 - accuracy: 0.9993\n",
      "Epoch 55/100\n",
      "1500/1500 [==============================] - 0s 91us/sample - loss: 0.0187 - accuracy: 0.9993\n",
      "Epoch 56/100\n",
      "1500/1500 [==============================] - 0s 91us/sample - loss: 0.0178 - accuracy: 0.9987\n",
      "Epoch 57/100\n",
      "1500/1500 [==============================] - 0s 95us/sample - loss: 0.0174 - accuracy: 0.9993\n",
      "Epoch 58/100\n",
      "1500/1500 [==============================] - ETA: 0s - loss: 0.0164 - accuracy: 0.9982 - 0s 94us/sample - loss: 0.0168 - accuracy: 0.9987\n",
      "Epoch 59/100\n",
      "1500/1500 [==============================] - 0s 100us/sample - loss: 0.0163 - accuracy: 0.9993\n",
      "Epoch 60/100\n",
      "1500/1500 [==============================] - 0s 93us/sample - loss: 0.0158 - accuracy: 0.9987\n",
      "Epoch 61/100\n",
      "1500/1500 [==============================] - 0s 91us/sample - loss: 0.0156 - accuracy: 0.9987\n",
      "Epoch 62/100\n",
      "1500/1500 [==============================] - 0s 90us/sample - loss: 0.0149 - accuracy: 0.9987\n",
      "Epoch 63/100\n",
      "1500/1500 [==============================] - 0s 91us/sample - loss: 0.0147 - accuracy: 0.9987\n",
      "Epoch 64/100\n",
      "1500/1500 [==============================] - 0s 91us/sample - loss: 0.0143 - accuracy: 0.9980\n",
      "Epoch 65/100\n",
      "1500/1500 [==============================] - 0s 91us/sample - loss: 0.0140 - accuracy: 0.9993\n",
      "Epoch 66/100\n",
      "1500/1500 [==============================] - 0s 91us/sample - loss: 0.0132 - accuracy: 0.9987\n",
      "Epoch 67/100\n",
      "1500/1500 [==============================] - 0s 91us/sample - loss: 0.0132 - accuracy: 0.9993\n",
      "Epoch 68/100\n",
      "1500/1500 [==============================] - 0s 91us/sample - loss: 0.0127 - accuracy: 0.9987\n",
      "Epoch 69/100\n",
      "1500/1500 [==============================] - 0s 92us/sample - loss: 0.0125 - accuracy: 0.9993\n",
      "Epoch 70/100\n",
      "1500/1500 [==============================] - 0s 99us/sample - loss: 0.0120 - accuracy: 0.9993\n",
      "Epoch 71/100\n",
      "1500/1500 [==============================] - 0s 107us/sample - loss: 0.0116 - accuracy: 0.9993\n",
      "Epoch 72/100\n",
      "1500/1500 [==============================] - 0s 86us/sample - loss: 0.0113 - accuracy: 0.9987\n",
      "Epoch 73/100\n",
      "1500/1500 [==============================] - 0s 92us/sample - loss: 0.0113 - accuracy: 0.9987\n",
      "Epoch 74/100\n",
      "1500/1500 [==============================] - 0s 90us/sample - loss: 0.0111 - accuracy: 0.9993\n",
      "Epoch 75/100\n",
      "1500/1500 [==============================] - 0s 94us/sample - loss: 0.0108 - accuracy: 0.9987\n",
      "Epoch 76/100\n"
     ]
    },
    {
     "name": "stdout",
     "output_type": "stream",
     "text": [
      "1500/1500 [==============================] - 0s 93us/sample - loss: 0.0105 - accuracy: 0.9987\n",
      "Epoch 77/100\n",
      "1500/1500 [==============================] - 0s 89us/sample - loss: 0.0105 - accuracy: 0.9987\n",
      "Epoch 78/100\n",
      "1500/1500 [==============================] - 0s 92us/sample - loss: 0.0101 - accuracy: 0.9987\n",
      "Epoch 79/100\n",
      "1500/1500 [==============================] - 0s 89us/sample - loss: 0.0099 - accuracy: 0.9987\n",
      "Epoch 80/100\n",
      "1500/1500 [==============================] - 0s 90us/sample - loss: 0.0096 - accuracy: 0.9987\n",
      "Epoch 81/100\n",
      "1500/1500 [==============================] - 0s 89us/sample - loss: 0.0093 - accuracy: 0.9993\n",
      "Epoch 82/100\n",
      "1500/1500 [==============================] - 0s 89us/sample - loss: 0.0093 - accuracy: 0.9987s - loss: 0.0094 - accuracy: 1.\n",
      "Epoch 83/100\n",
      "1500/1500 [==============================] - 0s 88us/sample - loss: 0.0091 - accuracy: 0.9987\n",
      "Epoch 84/100\n",
      "1500/1500 [==============================] - 0s 89us/sample - loss: 0.0087 - accuracy: 0.9993\n",
      "Epoch 85/100\n",
      "1500/1500 [==============================] - 0s 87us/sample - loss: 0.0087 - accuracy: 0.9987\n",
      "Epoch 86/100\n",
      "1500/1500 [==============================] - 0s 90us/sample - loss: 0.0087 - accuracy: 0.9987\n",
      "Epoch 87/100\n",
      "1500/1500 [==============================] - 0s 120us/sample - loss: 0.0083 - accuracy: 1.0000\n",
      "Epoch 88/100\n",
      "1500/1500 [==============================] - 0s 86us/sample - loss: 0.0082 - accuracy: 0.9987\n",
      "Epoch 89/100\n",
      "1500/1500 [==============================] - 0s 89us/sample - loss: 0.0081 - accuracy: 0.9993\n",
      "Epoch 90/100\n",
      "1500/1500 [==============================] - 0s 91us/sample - loss: 0.0079 - accuracy: 0.9993\n",
      "Epoch 91/100\n",
      "1500/1500 [==============================] - 0s 90us/sample - loss: 0.0079 - accuracy: 0.9987\n",
      "Epoch 92/100\n",
      "1500/1500 [==============================] - 0s 94us/sample - loss: 0.0078 - accuracy: 0.9987\n",
      "Epoch 93/100\n",
      "1500/1500 [==============================] - 0s 95us/sample - loss: 0.0076 - accuracy: 0.9993\n",
      "Epoch 94/100\n",
      "1500/1500 [==============================] - 0s 90us/sample - loss: 0.0075 - accuracy: 0.9993\n",
      "Epoch 95/100\n",
      "1500/1500 [==============================] - 0s 91us/sample - loss: 0.0073 - accuracy: 0.9993\n",
      "Epoch 96/100\n",
      "1500/1500 [==============================] - 0s 90us/sample - loss: 0.0072 - accuracy: 0.9987\n",
      "Epoch 97/100\n",
      "1500/1500 [==============================] - 0s 89us/sample - loss: 0.0069 - accuracy: 0.9993\n",
      "Epoch 98/100\n",
      "1500/1500 [==============================] - 0s 93us/sample - loss: 0.0070 - accuracy: 0.9993\n",
      "Epoch 99/100\n",
      "1500/1500 [==============================] - 0s 87us/sample - loss: 0.0067 - accuracy: 0.9993\n",
      "Epoch 100/100\n",
      "1500/1500 [==============================] - 0s 106us/sample - loss: 0.0066 - accuracy: 0.9993\n"
     ]
    },
    {
     "data": {
      "text/plain": [
       "<tensorflow.python.keras.callbacks.History at 0x1b34e8199e8>"
      ]
     },
     "execution_count": 20,
     "metadata": {},
     "output_type": "execute_result"
    }
   ],
   "source": [
    "# Efetuando o treinamento do modelo, reajustando os pesos a cada 10 registros por 100 vezes\n",
    "classificador.fit(previsores_train, classe_train, batch_size=10, epochs=100)"
   ]
  },
  {
   "cell_type": "code",
   "execution_count": 21,
   "metadata": {},
   "outputs": [],
   "source": [
    "# Testando o modelo criado à partir dos dados de treinamento\n",
    "previsoes = classificador.predict(previsores_test)\n",
    "previsoes = (previsoes > 0.5)"
   ]
  },
  {
   "cell_type": "code",
   "execution_count": 22,
   "metadata": {},
   "outputs": [],
   "source": [
    "# Calculando a precisão do nosso modelo\n",
    "from sklearn.metrics import confusion_matrix, accuracy_score"
   ]
  },
  {
   "cell_type": "code",
   "execution_count": 23,
   "metadata": {},
   "outputs": [
    {
     "data": {
      "text/plain": [
       "0.998"
      ]
     },
     "execution_count": 23,
     "metadata": {},
     "output_type": "execute_result"
    }
   ],
   "source": [
    "precisao = accuracy_score(classe_test, previsoes)\n",
    "precisao"
   ]
  },
  {
   "cell_type": "code",
   "execution_count": 24,
   "metadata": {},
   "outputs": [
    {
     "data": {
      "text/plain": [
       "array([[435,   1],\n",
       "       [  0,  64]], dtype=int64)"
      ]
     },
     "execution_count": 24,
     "metadata": {},
     "output_type": "execute_result"
    }
   ],
   "source": [
    "matriz = confusion_matrix(classe_test, previsoes)\n",
    "matriz"
   ]
  },
  {
   "cell_type": "markdown",
   "metadata": {},
   "source": [
    "## Resultado\n",
    "### Redes Neurais Tensorflow Keras\n",
    "0.998"
   ]
  },
  {
   "cell_type": "code",
   "execution_count": null,
   "metadata": {},
   "outputs": [],
   "source": []
  }
 ],
 "metadata": {
  "kernelspec": {
   "display_name": "Python 3",
   "language": "python",
   "name": "python3"
  },
  "language_info": {
   "codemirror_mode": {
    "name": "ipython",
    "version": 3
   },
   "file_extension": ".py",
   "mimetype": "text/x-python",
   "name": "python",
   "nbconvert_exporter": "python",
   "pygments_lexer": "ipython3",
   "version": "3.6.5"
  }
 },
 "nbformat": 4,
 "nbformat_minor": 2
}
